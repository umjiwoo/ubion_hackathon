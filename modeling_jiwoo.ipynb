{
  "cells": [
    {
      "cell_type": "markdown",
      "metadata": {
        "id": "view-in-github",
        "colab_type": "text"
      },
      "source": [
        "<a href=\"https://colab.research.google.com/github/umjiwoo/ubion_hackathon/blob/main/modeling_jiwoo.ipynb\" target=\"_parent\"><img src=\"https://colab.research.google.com/assets/colab-badge.svg\" alt=\"Open In Colab\"/></a>"
      ]
    },
    {
      "cell_type": "markdown",
      "metadata": {
        "id": "etPXWaXxdjpB"
      },
      "source": [
        "modeling 공통"
      ]
    },
    {
      "cell_type": "markdown",
      "metadata": {
        "id": "ZCzH2zWBeMDP"
      },
      "source": [
        "모델을 코랩에서 돌리든 비쥬얼스튜디오로 돌리든 최종 모델은 파일로 저장해오기로 하자(.h5)"
      ]
    },
    {
      "cell_type": "markdown",
      "metadata": {
        "id": "6mmz0AQ1eHoi"
      },
      "source": [
        "모든 모델의 random_state=1로 하기로 함"
      ]
    },
    {
      "cell_type": "code",
      "execution_count": 1,
      "metadata": {
        "id": "MzTP2H28fxyR"
      },
      "outputs": [],
      "source": [
        "import pandas as pd\n",
        "import numpy as np\n",
        "import matplotlib.pyplot as plt\n",
        "import seaborn as sns"
      ]
    },
    {
      "cell_type": "code",
      "execution_count": 2,
      "metadata": {
        "colab": {
          "base_uri": "https://localhost:8080/"
        },
        "id": "Kvz_HwCdfzUp",
        "outputId": "39f3ac85-04a4-4d6d-b6c8-496c8bffa880"
      },
      "outputs": [
        {
          "output_type": "stream",
          "name": "stdout",
          "text": [
            "Mounted at /content/drive\n"
          ]
        }
      ],
      "source": [
        "from google.colab import drive\n",
        "drive.mount('/content/drive')"
      ]
    },
    {
      "cell_type": "code",
      "execution_count": 3,
      "metadata": {
        "id": "jVf5sA6DfzpL"
      },
      "outputs": [],
      "source": [
        "train = pd.read_csv(\"/content/drive/MyDrive/Colab Notebooks/ubion_hackathon/train_data.csv\")\n",
        "test = pd.read_csv(\"/content/drive/MyDrive/Colab Notebooks/ubion_hackathon/test_data.csv\")\n",
        "\n",
        "# train = pd.read_csv(\"./datasets/train_data.csv\")\n",
        "# test = pd.read_csv(\"./datasets/test_data.csv\")"
      ]
    },
    {
      "cell_type": "code",
      "execution_count": 4,
      "metadata": {
        "id": "76wM0YaVgWJO"
      },
      "outputs": [],
      "source": [
        "y_train = train[\"TARGET\"]\n",
        "X_train = train.drop(\"TARGET\", axis=1)"
      ]
    },
    {
      "cell_type": "code",
      "execution_count": 5,
      "metadata": {
        "id": "nwN9WN_QghV_"
      },
      "outputs": [],
      "source": [
        "y_test = test[\"TARGET\"]\n",
        "X_test = test.drop(\"TARGET\", axis=1)"
      ]
    },
    {
      "cell_type": "code",
      "execution_count": 6,
      "metadata": {
        "colab": {
          "base_uri": "https://localhost:8080/"
        },
        "id": "8_iUGrzqk8mW",
        "outputId": "8c3247f1-e18b-4907-a9bb-cb05eb680840"
      },
      "outputs": [
        {
          "output_type": "stream",
          "name": "stdout",
          "text": [
            "(203604, 73) (203604,) (50939, 73) (50939,)\n"
          ]
        }
      ],
      "source": [
        "print(X_train.shape, y_train.shape, X_test.shape, y_test.shape)"
      ]
    },
    {
      "cell_type": "markdown",
      "source": [
        "#### 오버샘플링"
      ],
      "metadata": {
        "id": "CbycM5gyYbUb"
      }
    },
    {
      "cell_type": "code",
      "execution_count": 7,
      "metadata": {
        "id": "tSBtGxasBsVV"
      },
      "outputs": [],
      "source": [
        "from imblearn.over_sampling import SMOTE\n",
        "# 검증 데이터나 테스트 데이터가 아닌 학습데이터에서만 오버샘플링 사용할 것\n",
        "smote = SMOTE(random_state=11)\n",
        "X_train_smote, y_train_smote = smote.fit_resample(X_train, y_train)"
      ]
    },
    {
      "cell_type": "code",
      "execution_count": 8,
      "metadata": {
        "colab": {
          "base_uri": "https://localhost:8080/"
        },
        "id": "3Q0B36W25zYT",
        "outputId": "37fd6580-4e07-485d-c823-fd4f961125bc"
      },
      "outputs": [
        {
          "output_type": "execute_result",
          "data": {
            "text/plain": [
              "0         0\n",
              "1         0\n",
              "2         0\n",
              "3         0\n",
              "4         0\n",
              "         ..\n",
              "374005    1\n",
              "374006    1\n",
              "374007    1\n",
              "374008    1\n",
              "374009    1\n",
              "Name: TARGET, Length: 374010, dtype: int64"
            ]
          },
          "metadata": {},
          "execution_count": 8
        }
      ],
      "source": [
        "y_train_smote"
      ]
    },
    {
      "cell_type": "code",
      "execution_count": 9,
      "metadata": {
        "colab": {
          "base_uri": "https://localhost:8080/"
        },
        "id": "OsG-GH5mBwdW",
        "outputId": "92d46e83-ae29-4b9f-8f85-a8a421282d65"
      },
      "outputs": [
        {
          "output_type": "stream",
          "name": "stdout",
          "text": [
            "SMOTE 적용 전 학습용 피처/레이블 데이터 세트:  (203604, 73) (203604,)\n",
            "SMOTE 적용 후 학습용 피처/레이블 데이터 세트:  (374010, 73) (374010,)\n",
            "SMOTE 적용 후 레이블 값 분포: \n",
            " 0    187005\n",
            "1    187005\n",
            "Name: TARGET, dtype: int64\n"
          ]
        }
      ],
      "source": [
        "print('SMOTE 적용 전 학습용 피처/레이블 데이터 세트: ', X_train.shape, y_train.shape)\n",
        "print('SMOTE 적용 후 학습용 피처/레이블 데이터 세트: ', X_train_smote.shape, y_train_smote.shape)\n",
        "print('SMOTE 적용 후 레이블 값 분포: \\n', pd.Series(y_train_smote).value_counts())"
      ]
    },
    {
      "cell_type": "markdown",
      "source": [
        "#### 오버&언더 샘플링"
      ],
      "metadata": {
        "id": "XnxjjMGIYitS"
      }
    },
    {
      "cell_type": "code",
      "source": [
        "from imblearn.combine import SMOTETomek\n",
        "from imblearn.under_sampling import TomekLinks\n",
        "\n",
        "\n",
        "smoteto = SMOTETomek(tomek=TomekLinks(sampling_strategy='majority'))\n",
        "X_train_over, y_train_over = smoteto.fit_resample(X_train, y_train)"
      ],
      "metadata": {
        "id": "VGBmVXoSryCJ"
      },
      "execution_count": 10,
      "outputs": []
    },
    {
      "cell_type": "markdown",
      "metadata": {
        "id": "JQzTyY6RCTb_"
      },
      "source": [
        "#### 모델 평가 함수\n",
        "#### get_clf_eval"
      ]
    },
    {
      "cell_type": "code",
      "execution_count": 11,
      "metadata": {
        "id": "WhGY6h1i6tli"
      },
      "outputs": [],
      "source": [
        "from sklearn.metrics import confusion_matrix, accuracy_score, precision_score, recall_score, f1_score, roc_auc_score\n",
        "\n",
        "def get_clf_eval(y_test, pred):\n",
        "    test_cm = confusion_matrix(y_test, pred)\n",
        "    test_acc = accuracy_score(y_test, pred)\n",
        "    test_prc = precision_score(y_test, pred)\n",
        "    test_rcll = recall_score(y_test, pred)\n",
        "    test_f1 = f1_score(y_test, pred)\n",
        "\n",
        "    print(test_cm)\n",
        "    print('정확도', round(test_acc*100,2))\n",
        "    print('정밀도', round(test_prc*100,2))\n",
        "    print('재현율', round(test_rcll*100,2))\n",
        "    print('F1',  round(test_f1*100,2))"
      ]
    },
    {
      "cell_type": "markdown",
      "source": [
        "#### GBM"
      ],
      "metadata": {
        "id": "UYRyPN7X-HQN"
      }
    },
    {
      "cell_type": "markdown",
      "source": [
        "#### GradientBoosting  X_train_over로\n"
      ],
      "metadata": {
        "id": "A-FHIigxsQvg"
      }
    },
    {
      "cell_type": "code",
      "source": [
        "from sklearn.ensemble import GradientBoostingClassifier\n",
        "from sklearn.model_selection import cross_val_score\n",
        "\n",
        "\n",
        "gb_clf_by_over = GradientBoostingClassifier(random_state=11)\n",
        "gb_clf_by_over.fit(X_train_over, y_train_over)\n",
        "\n",
        "\n",
        "gb_clf_by_over_cross = cross_val_score(gb_clf_by_over, X_train_over, y_train_over, scoring='recall', cv=5)\n",
        "\n",
        "print(gb_clf_by_over_cross)\n",
        "print()\n",
        "print(gb_clf_by_over_cross.mean())"
      ],
      "metadata": {
        "id": "d6EUcZw0r-QV",
        "colab": {
          "base_uri": "https://localhost:8080/"
        },
        "outputId": "3950ae6d-3a45-42d2-d932-5ae960c95029"
      },
      "execution_count": 26,
      "outputs": [
        {
          "output_type": "stream",
          "name": "stdout",
          "text": [
            "[0.53386273 0.95818294 0.95834336 0.96107056 0.96719339]\n",
            "\n",
            "0.8757305954386247\n"
          ]
        }
      ]
    },
    {
      "cell_type": "code",
      "source": [
        "pred = gb_clf_by_over.predict(X_test)\n",
        "\n",
        "get_clf_eval(y_test,pred)"
      ],
      "metadata": {
        "colab": {
          "base_uri": "https://localhost:8080/"
        },
        "id": "b1wE-qx1thl4",
        "outputId": "1ccc1c16-3597-469c-9433-cb8cc7d0b26b"
      },
      "execution_count": 27,
      "outputs": [
        {
          "output_type": "stream",
          "name": "stdout",
          "text": [
            "[[23810 22860]\n",
            " [ 1666  2603]]\n",
            "정확도 51.85\n",
            "정밀도 10.22\n",
            "재현율 60.97\n",
            "F1 17.51\n"
          ]
        }
      ]
    },
    {
      "cell_type": "code",
      "source": [
        "import joblib\n",
        "\n",
        "joblib.dump(gb_clf_by_over, './gbm_over_under_sampling.pkl')"
      ],
      "metadata": {
        "colab": {
          "base_uri": "https://localhost:8080/"
        },
        "id": "ORI4K1_QLWVt",
        "outputId": "603f6f1e-5cc4-46c0-b655-3b1707237095"
      },
      "execution_count": 28,
      "outputs": [
        {
          "output_type": "execute_result",
          "data": {
            "text/plain": [
              "['./gbm_over_under_sampling.pkl']"
            ]
          },
          "metadata": {},
          "execution_count": 28
        }
      ]
    },
    {
      "cell_type": "markdown",
      "source": [
        "#### GradientBoosting  X_train_smote로\n",
        "\n"
      ],
      "metadata": {
        "id": "448qSEQmsI43"
      }
    },
    {
      "cell_type": "code",
      "execution_count": 29,
      "metadata": {
        "colab": {
          "base_uri": "https://localhost:8080/",
          "height": 75
        },
        "id": "VOv1qHm4YykQ",
        "outputId": "3d5cc811-3e5e-49bb-aac1-e3ce77c09e91"
      },
      "outputs": [
        {
          "output_type": "execute_result",
          "data": {
            "text/plain": [
              "GradientBoostingClassifier(random_state=11)"
            ],
            "text/html": [
              "<style>#sk-container-id-1 {color: black;background-color: white;}#sk-container-id-1 pre{padding: 0;}#sk-container-id-1 div.sk-toggleable {background-color: white;}#sk-container-id-1 label.sk-toggleable__label {cursor: pointer;display: block;width: 100%;margin-bottom: 0;padding: 0.3em;box-sizing: border-box;text-align: center;}#sk-container-id-1 label.sk-toggleable__label-arrow:before {content: \"▸\";float: left;margin-right: 0.25em;color: #696969;}#sk-container-id-1 label.sk-toggleable__label-arrow:hover:before {color: black;}#sk-container-id-1 div.sk-estimator:hover label.sk-toggleable__label-arrow:before {color: black;}#sk-container-id-1 div.sk-toggleable__content {max-height: 0;max-width: 0;overflow: hidden;text-align: left;background-color: #f0f8ff;}#sk-container-id-1 div.sk-toggleable__content pre {margin: 0.2em;color: black;border-radius: 0.25em;background-color: #f0f8ff;}#sk-container-id-1 input.sk-toggleable__control:checked~div.sk-toggleable__content {max-height: 200px;max-width: 100%;overflow: auto;}#sk-container-id-1 input.sk-toggleable__control:checked~label.sk-toggleable__label-arrow:before {content: \"▾\";}#sk-container-id-1 div.sk-estimator input.sk-toggleable__control:checked~label.sk-toggleable__label {background-color: #d4ebff;}#sk-container-id-1 div.sk-label input.sk-toggleable__control:checked~label.sk-toggleable__label {background-color: #d4ebff;}#sk-container-id-1 input.sk-hidden--visually {border: 0;clip: rect(1px 1px 1px 1px);clip: rect(1px, 1px, 1px, 1px);height: 1px;margin: -1px;overflow: hidden;padding: 0;position: absolute;width: 1px;}#sk-container-id-1 div.sk-estimator {font-family: monospace;background-color: #f0f8ff;border: 1px dotted black;border-radius: 0.25em;box-sizing: border-box;margin-bottom: 0.5em;}#sk-container-id-1 div.sk-estimator:hover {background-color: #d4ebff;}#sk-container-id-1 div.sk-parallel-item::after {content: \"\";width: 100%;border-bottom: 1px solid gray;flex-grow: 1;}#sk-container-id-1 div.sk-label:hover label.sk-toggleable__label {background-color: #d4ebff;}#sk-container-id-1 div.sk-serial::before {content: \"\";position: absolute;border-left: 1px solid gray;box-sizing: border-box;top: 0;bottom: 0;left: 50%;z-index: 0;}#sk-container-id-1 div.sk-serial {display: flex;flex-direction: column;align-items: center;background-color: white;padding-right: 0.2em;padding-left: 0.2em;position: relative;}#sk-container-id-1 div.sk-item {position: relative;z-index: 1;}#sk-container-id-1 div.sk-parallel {display: flex;align-items: stretch;justify-content: center;background-color: white;position: relative;}#sk-container-id-1 div.sk-item::before, #sk-container-id-1 div.sk-parallel-item::before {content: \"\";position: absolute;border-left: 1px solid gray;box-sizing: border-box;top: 0;bottom: 0;left: 50%;z-index: -1;}#sk-container-id-1 div.sk-parallel-item {display: flex;flex-direction: column;z-index: 1;position: relative;background-color: white;}#sk-container-id-1 div.sk-parallel-item:first-child::after {align-self: flex-end;width: 50%;}#sk-container-id-1 div.sk-parallel-item:last-child::after {align-self: flex-start;width: 50%;}#sk-container-id-1 div.sk-parallel-item:only-child::after {width: 0;}#sk-container-id-1 div.sk-dashed-wrapped {border: 1px dashed gray;margin: 0 0.4em 0.5em 0.4em;box-sizing: border-box;padding-bottom: 0.4em;background-color: white;}#sk-container-id-1 div.sk-label label {font-family: monospace;font-weight: bold;display: inline-block;line-height: 1.2em;}#sk-container-id-1 div.sk-label-container {text-align: center;}#sk-container-id-1 div.sk-container {/* jupyter's `normalize.less` sets `[hidden] { display: none; }` but bootstrap.min.css set `[hidden] { display: none !important; }` so we also need the `!important` here to be able to override the default hidden behavior on the sphinx rendered scikit-learn.org. See: https://github.com/scikit-learn/scikit-learn/issues/21755 */display: inline-block !important;position: relative;}#sk-container-id-1 div.sk-text-repr-fallback {display: none;}</style><div id=\"sk-container-id-1\" class=\"sk-top-container\"><div class=\"sk-text-repr-fallback\"><pre>GradientBoostingClassifier(random_state=11)</pre><b>In a Jupyter environment, please rerun this cell to show the HTML representation or trust the notebook. <br />On GitHub, the HTML representation is unable to render, please try loading this page with nbviewer.org.</b></div><div class=\"sk-container\" hidden><div class=\"sk-item\"><div class=\"sk-estimator sk-toggleable\"><input class=\"sk-toggleable__control sk-hidden--visually\" id=\"sk-estimator-id-1\" type=\"checkbox\" checked><label for=\"sk-estimator-id-1\" class=\"sk-toggleable__label sk-toggleable__label-arrow\">GradientBoostingClassifier</label><div class=\"sk-toggleable__content\"><pre>GradientBoostingClassifier(random_state=11)</pre></div></div></div></div></div>"
            ]
          },
          "metadata": {},
          "execution_count": 29
        }
      ],
      "source": [
        "from sklearn.ensemble import GradientBoostingClassifier\n",
        "\n",
        "gb_clf = GradientBoostingClassifier(random_state=11)\n",
        "gb_clf.fit(X_train_smote, y_train_smote)"
      ]
    },
    {
      "cell_type": "code",
      "execution_count": null,
      "metadata": {
        "id": "ETHaO2r1sd1y"
      },
      "outputs": [],
      "source": [
        "from sklearn.model_selection import cross_val_score\n",
        "\n",
        "gb_clf_cross = cross_val_score(gb_clf, X_train_smote, y_train_smote, scoring='recall', cv=5)\n",
        "\n",
        "print(gb_clf_cross)\n",
        "print()\n",
        "print(gb_clf_cross.mean())"
      ]
    },
    {
      "cell_type": "code",
      "source": [
        "pred = gb_clf.predict(X_test)\n",
        "\n",
        "get_clf_eval(y_test,pred)"
      ],
      "metadata": {
        "id": "rsG7dhrhsmKe"
      },
      "execution_count": null,
      "outputs": []
    },
    {
      "cell_type": "code",
      "source": [
        "import joblib\n",
        "\n",
        "joblib.dump(gb_clf, './gbm_over_sampling.pkl')"
      ],
      "metadata": {
        "id": "AaEaJ93ONT0D"
      },
      "execution_count": null,
      "outputs": []
    },
    {
      "cell_type": "markdown",
      "source": [
        "#### GradientBoostingClassifier yes hyperparameter"
      ],
      "metadata": {
        "id": "vsOkx54tNlPo"
      }
    },
    {
      "cell_type": "code",
      "source": [
        "from sklearn.ensemble import GradientBoostingClassifier\n",
        "\n",
        "gb_clf_2 = GradientBoostingClassifier(n_estimators=200, learning_rate=0.1, min_samples_leaf=30, max_depth=5, random_state=11)\n",
        "\n",
        "gb_clf.fit(X_train_smote, y_train_smote)"
      ],
      "metadata": {
        "id": "yiH0IZeq-4iy"
      },
      "execution_count": null,
      "outputs": []
    },
    {
      "cell_type": "code",
      "source": [
        "from sklearn.model_selection import cross_val_score\n",
        "\n",
        "gb_clf_cross = cross_val_score(gb_clf_2, X_train_smote, y_train_smote, scoring='recall', cv=5)\n",
        "\n",
        "print(gb_clf_cross)\n",
        "print()\n",
        "print(gb_clf_cross.mean())"
      ],
      "metadata": {
        "id": "oUv1PXaf-mch"
      },
      "execution_count": null,
      "outputs": []
    },
    {
      "cell_type": "code",
      "source": [
        "pred = gb_clf2.predict(X_test)\n",
        "\n",
        "get_clf_eval(y_test,pred)"
      ],
      "metadata": {
        "id": "xSrBSDKs_x3f"
      },
      "execution_count": null,
      "outputs": []
    },
    {
      "cell_type": "code",
      "source": [
        "import joblib\n",
        "\n",
        "joblib.dump(gb_clf, './gbm_hyper.pkl')"
      ],
      "metadata": {
        "id": "8vEqW3y4O0-K"
      },
      "execution_count": null,
      "outputs": []
    },
    {
      "cell_type": "markdown",
      "metadata": {
        "id": "LLjTo4h-63rV"
      },
      "source": [
        "#### LightGBMClassifier"
      ]
    },
    {
      "cell_type": "code",
      "execution_count": 12,
      "metadata": {
        "id": "7fae51W46m5V",
        "colab": {
          "base_uri": "https://localhost:8080/",
          "height": 1000
        },
        "outputId": "39c29c02-af27-4eec-ca48-bd5d7b5133de"
      },
      "outputs": [
        {
          "output_type": "stream",
          "name": "stderr",
          "text": [
            "/usr/local/lib/python3.10/dist-packages/lightgbm/sklearn.py:726: UserWarning: 'early_stopping_rounds' argument is deprecated and will be removed in a future release of LightGBM. Pass 'early_stopping()' callback via 'callbacks' argument instead.\n",
            "  _log_warning(\"'early_stopping_rounds' argument is deprecated and will be removed in a future release of LightGBM. \"\n",
            "/usr/local/lib/python3.10/dist-packages/lightgbm/sklearn.py:736: UserWarning: 'verbose' argument is deprecated and will be removed in a future release of LightGBM. Pass 'log_evaluation()' callback via 'callbacks' argument instead.\n",
            "  _log_warning(\"'verbose' argument is deprecated and will be removed in a future release of LightGBM. \"\n"
          ]
        },
        {
          "output_type": "stream",
          "name": "stdout",
          "text": [
            "[1]\tvalid_0's binary_logloss: 0.685265\n",
            "[2]\tvalid_0's binary_logloss: 0.676877\n",
            "[3]\tvalid_0's binary_logloss: 0.669282\n",
            "[4]\tvalid_0's binary_logloss: 0.662689\n",
            "[5]\tvalid_0's binary_logloss: 0.670581\n",
            "[6]\tvalid_0's binary_logloss: 0.687902\n",
            "[7]\tvalid_0's binary_logloss: 0.734632\n",
            "[8]\tvalid_0's binary_logloss: 0.728033\n",
            "[9]\tvalid_0's binary_logloss: 0.722065\n",
            "[10]\tvalid_0's binary_logloss: 0.713946\n",
            "[11]\tvalid_0's binary_logloss: 0.707682\n",
            "[12]\tvalid_0's binary_logloss: 0.703501\n",
            "[13]\tvalid_0's binary_logloss: 0.724799\n",
            "[14]\tvalid_0's binary_logloss: 0.76888\n",
            "[15]\tvalid_0's binary_logloss: 0.762212\n",
            "[16]\tvalid_0's binary_logloss: 0.755745\n",
            "[17]\tvalid_0's binary_logloss: 0.746055\n",
            "[18]\tvalid_0's binary_logloss: 0.741401\n",
            "[19]\tvalid_0's binary_logloss: 0.735453\n",
            "[20]\tvalid_0's binary_logloss: 0.729685\n",
            "[21]\tvalid_0's binary_logloss: 0.724666\n",
            "[22]\tvalid_0's binary_logloss: 0.719391\n",
            "[23]\tvalid_0's binary_logloss: 0.71298\n",
            "[24]\tvalid_0's binary_logloss: 0.707546\n",
            "[25]\tvalid_0's binary_logloss: 0.703025\n",
            "[26]\tvalid_0's binary_logloss: 0.700073\n",
            "[27]\tvalid_0's binary_logloss: 0.719087\n",
            "[28]\tvalid_0's binary_logloss: 0.714484\n",
            "[29]\tvalid_0's binary_logloss: 0.717749\n",
            "[30]\tvalid_0's binary_logloss: 0.714322\n",
            "[31]\tvalid_0's binary_logloss: 0.757893\n",
            "[32]\tvalid_0's binary_logloss: 0.753374\n",
            "[33]\tvalid_0's binary_logloss: 0.748901\n",
            "[34]\tvalid_0's binary_logloss: 0.744694\n",
            "[35]\tvalid_0's binary_logloss: 0.739577\n",
            "[36]\tvalid_0's binary_logloss: 0.735529\n",
            "[37]\tvalid_0's binary_logloss: 0.73159\n",
            "[38]\tvalid_0's binary_logloss: 0.728223\n",
            "[39]\tvalid_0's binary_logloss: 0.73066\n",
            "[40]\tvalid_0's binary_logloss: 0.728242\n",
            "[41]\tvalid_0's binary_logloss: 0.750698\n",
            "[42]\tvalid_0's binary_logloss: 0.767079\n",
            "[43]\tvalid_0's binary_logloss: 0.761999\n",
            "[44]\tvalid_0's binary_logloss: 0.758148\n",
            "[45]\tvalid_0's binary_logloss: 0.755657\n",
            "[46]\tvalid_0's binary_logloss: 0.75061\n",
            "[47]\tvalid_0's binary_logloss: 0.74689\n",
            "[48]\tvalid_0's binary_logloss: 0.743714\n",
            "[49]\tvalid_0's binary_logloss: 0.747519\n",
            "[50]\tvalid_0's binary_logloss: 0.745979\n",
            "[51]\tvalid_0's binary_logloss: 0.742619\n",
            "[52]\tvalid_0's binary_logloss: 0.764842\n",
            "[53]\tvalid_0's binary_logloss: 0.758127\n",
            "[54]\tvalid_0's binary_logloss: 0.776105\n",
            "[55]\tvalid_0's binary_logloss: 0.77367\n",
            "[56]\tvalid_0's binary_logloss: 0.77034\n",
            "[57]\tvalid_0's binary_logloss: 0.76634\n",
            "[58]\tvalid_0's binary_logloss: 0.763363\n",
            "[59]\tvalid_0's binary_logloss: 0.759773\n",
            "[60]\tvalid_0's binary_logloss: 0.756401\n",
            "[61]\tvalid_0's binary_logloss: 0.753502\n",
            "[62]\tvalid_0's binary_logloss: 0.750626\n",
            "[63]\tvalid_0's binary_logloss: 0.791695\n",
            "[64]\tvalid_0's binary_logloss: 0.787505\n",
            "[65]\tvalid_0's binary_logloss: 0.786929\n",
            "[66]\tvalid_0's binary_logloss: 0.783963\n",
            "[67]\tvalid_0's binary_logloss: 0.782927\n",
            "[68]\tvalid_0's binary_logloss: 0.790885\n",
            "[69]\tvalid_0's binary_logloss: 0.788186\n",
            "[70]\tvalid_0's binary_logloss: 0.785378\n",
            "[71]\tvalid_0's binary_logloss: 0.783043\n",
            "[72]\tvalid_0's binary_logloss: 0.806025\n",
            "[73]\tvalid_0's binary_logloss: 0.802737\n",
            "[74]\tvalid_0's binary_logloss: 0.800217\n",
            "[75]\tvalid_0's binary_logloss: 0.798686\n",
            "[76]\tvalid_0's binary_logloss: 0.804167\n",
            "[77]\tvalid_0's binary_logloss: 0.821897\n",
            "[78]\tvalid_0's binary_logloss: 0.819863\n",
            "[79]\tvalid_0's binary_logloss: 0.813203\n",
            "[80]\tvalid_0's binary_logloss: 0.810778\n",
            "[81]\tvalid_0's binary_logloss: 0.809086\n",
            "[82]\tvalid_0's binary_logloss: 0.810559\n",
            "[83]\tvalid_0's binary_logloss: 0.807674\n",
            "[84]\tvalid_0's binary_logloss: 0.805168\n",
            "[85]\tvalid_0's binary_logloss: 0.817615\n",
            "[86]\tvalid_0's binary_logloss: 0.84098\n",
            "[87]\tvalid_0's binary_logloss: 0.844145\n",
            "[88]\tvalid_0's binary_logloss: 0.84192\n",
            "[89]\tvalid_0's binary_logloss: 0.839791\n",
            "[90]\tvalid_0's binary_logloss: 0.837199\n",
            "[91]\tvalid_0's binary_logloss: 0.837078\n",
            "[92]\tvalid_0's binary_logloss: 0.834967\n",
            "[93]\tvalid_0's binary_logloss: 0.876995\n",
            "[94]\tvalid_0's binary_logloss: 0.896769\n",
            "[95]\tvalid_0's binary_logloss: 0.920912\n",
            "[96]\tvalid_0's binary_logloss: 0.917756\n",
            "[97]\tvalid_0's binary_logloss: 0.916234\n",
            "[98]\tvalid_0's binary_logloss: 0.912174\n",
            "[99]\tvalid_0's binary_logloss: 0.909956\n",
            "[100]\tvalid_0's binary_logloss: 0.906762\n",
            "[101]\tvalid_0's binary_logloss: 0.904993\n",
            "[102]\tvalid_0's binary_logloss: 0.902373\n",
            "[103]\tvalid_0's binary_logloss: 0.900327\n",
            "[104]\tvalid_0's binary_logloss: 0.899446\n",
            "[105]\tvalid_0's binary_logloss: 0.89795\n",
            "[106]\tvalid_0's binary_logloss: 0.895509\n",
            "[107]\tvalid_0's binary_logloss: 0.891782\n",
            "[108]\tvalid_0's binary_logloss: 0.889282\n",
            "[109]\tvalid_0's binary_logloss: 0.887587\n",
            "[110]\tvalid_0's binary_logloss: 0.886094\n",
            "[111]\tvalid_0's binary_logloss: 0.909927\n",
            "[112]\tvalid_0's binary_logloss: 0.929531\n",
            "[113]\tvalid_0's binary_logloss: 0.927526\n",
            "[114]\tvalid_0's binary_logloss: 0.951624\n",
            "[115]\tvalid_0's binary_logloss: 0.949393\n",
            "[116]\tvalid_0's binary_logloss: 0.948142\n",
            "[117]\tvalid_0's binary_logloss: 0.947376\n",
            "[118]\tvalid_0's binary_logloss: 0.944947\n",
            "[119]\tvalid_0's binary_logloss: 0.949653\n",
            "[120]\tvalid_0's binary_logloss: 0.947854\n",
            "[121]\tvalid_0's binary_logloss: 0.946894\n",
            "[122]\tvalid_0's binary_logloss: 0.956264\n",
            "[123]\tvalid_0's binary_logloss: 0.953826\n",
            "[124]\tvalid_0's binary_logloss: 0.952098\n",
            "[125]\tvalid_0's binary_logloss: 0.950096\n",
            "[126]\tvalid_0's binary_logloss: 0.962431\n",
            "[127]\tvalid_0's binary_logloss: 0.986944\n",
            "[128]\tvalid_0's binary_logloss: 1.03163\n",
            "[129]\tvalid_0's binary_logloss: 1.05351\n",
            "[130]\tvalid_0's binary_logloss: 1.05453\n",
            "[131]\tvalid_0's binary_logloss: 1.04863\n",
            "[132]\tvalid_0's binary_logloss: 1.0458\n",
            "[133]\tvalid_0's binary_logloss: 1.04499\n",
            "[134]\tvalid_0's binary_logloss: 1.04334\n",
            "[135]\tvalid_0's binary_logloss: 1.04129\n",
            "[136]\tvalid_0's binary_logloss: 1.03919\n",
            "[137]\tvalid_0's binary_logloss: 1.03771\n",
            "[138]\tvalid_0's binary_logloss: 1.03597\n",
            "[139]\tvalid_0's binary_logloss: 1.0348\n",
            "[140]\tvalid_0's binary_logloss: 1.03399\n",
            "[141]\tvalid_0's binary_logloss: 1.03163\n",
            "[142]\tvalid_0's binary_logloss: 1.03099\n",
            "[143]\tvalid_0's binary_logloss: 1.02894\n",
            "[144]\tvalid_0's binary_logloss: 1.0297\n",
            "[145]\tvalid_0's binary_logloss: 1.02729\n",
            "[146]\tvalid_0's binary_logloss: 1.02587\n",
            "[147]\tvalid_0's binary_logloss: 1.02408\n",
            "[148]\tvalid_0's binary_logloss: 1.01889\n",
            "[149]\tvalid_0's binary_logloss: 1.03069\n",
            "[150]\tvalid_0's binary_logloss: 1.02885\n",
            "[151]\tvalid_0's binary_logloss: 1.02781\n",
            "[152]\tvalid_0's binary_logloss: 1.02537\n",
            "[153]\tvalid_0's binary_logloss: 1.02336\n",
            "[154]\tvalid_0's binary_logloss: 1.02183\n",
            "[155]\tvalid_0's binary_logloss: 1.02316\n",
            "[156]\tvalid_0's binary_logloss: 1.02129\n",
            "[157]\tvalid_0's binary_logloss: 1.02986\n",
            "[158]\tvalid_0's binary_logloss: 1.02831\n",
            "[159]\tvalid_0's binary_logloss: 1.02674\n",
            "[160]\tvalid_0's binary_logloss: 1.0252\n",
            "[161]\tvalid_0's binary_logloss: 1.03072\n",
            "[162]\tvalid_0's binary_logloss: 1.02935\n",
            "[163]\tvalid_0's binary_logloss: 1.02827\n",
            "[164]\tvalid_0's binary_logloss: 1.02698\n",
            "[165]\tvalid_0's binary_logloss: 1.02503\n",
            "[166]\tvalid_0's binary_logloss: 1.02373\n",
            "[167]\tvalid_0's binary_logloss: 1.04844\n",
            "[168]\tvalid_0's binary_logloss: 1.04799\n",
            "[169]\tvalid_0's binary_logloss: 1.04649\n",
            "[170]\tvalid_0's binary_logloss: 1.04531\n",
            "[171]\tvalid_0's binary_logloss: 1.0436\n",
            "[172]\tvalid_0's binary_logloss: 1.04263\n",
            "[173]\tvalid_0's binary_logloss: 1.04137\n",
            "[174]\tvalid_0's binary_logloss: 1.0493\n",
            "[175]\tvalid_0's binary_logloss: 1.04815\n",
            "[176]\tvalid_0's binary_logloss: 1.04747\n",
            "[177]\tvalid_0's binary_logloss: 1.04579\n",
            "[178]\tvalid_0's binary_logloss: 1.04503\n",
            "[179]\tvalid_0's binary_logloss: 1.04484\n",
            "[180]\tvalid_0's binary_logloss: 1.05171\n",
            "[181]\tvalid_0's binary_logloss: 1.05361\n",
            "[182]\tvalid_0's binary_logloss: 1.05139\n",
            "[183]\tvalid_0's binary_logloss: 1.04991\n",
            "[184]\tvalid_0's binary_logloss: 1.09433\n",
            "[185]\tvalid_0's binary_logloss: 1.10724\n",
            "[186]\tvalid_0's binary_logloss: 1.10289\n",
            "[187]\tvalid_0's binary_logloss: 1.10567\n",
            "[188]\tvalid_0's binary_logloss: 1.10472\n",
            "[189]\tvalid_0's binary_logloss: 1.11831\n",
            "[190]\tvalid_0's binary_logloss: 1.11718\n",
            "[191]\tvalid_0's binary_logloss: 1.1158\n",
            "[192]\tvalid_0's binary_logloss: 1.11532\n",
            "[193]\tvalid_0's binary_logloss: 1.11595\n",
            "[194]\tvalid_0's binary_logloss: 1.11492\n",
            "[195]\tvalid_0's binary_logloss: 1.12799\n",
            "[196]\tvalid_0's binary_logloss: 1.15376\n",
            "[197]\tvalid_0's binary_logloss: 1.17488\n",
            "[198]\tvalid_0's binary_logloss: 1.17477\n",
            "[199]\tvalid_0's binary_logloss: 1.1739\n",
            "[200]\tvalid_0's binary_logloss: 1.1981\n"
          ]
        },
        {
          "output_type": "execute_result",
          "data": {
            "text/plain": [
              "LGBMClassifier(max_depth=3, n_estimators=200, random_state=11)"
            ],
            "text/html": [
              "<style>#sk-container-id-1 {color: black;background-color: white;}#sk-container-id-1 pre{padding: 0;}#sk-container-id-1 div.sk-toggleable {background-color: white;}#sk-container-id-1 label.sk-toggleable__label {cursor: pointer;display: block;width: 100%;margin-bottom: 0;padding: 0.3em;box-sizing: border-box;text-align: center;}#sk-container-id-1 label.sk-toggleable__label-arrow:before {content: \"▸\";float: left;margin-right: 0.25em;color: #696969;}#sk-container-id-1 label.sk-toggleable__label-arrow:hover:before {color: black;}#sk-container-id-1 div.sk-estimator:hover label.sk-toggleable__label-arrow:before {color: black;}#sk-container-id-1 div.sk-toggleable__content {max-height: 0;max-width: 0;overflow: hidden;text-align: left;background-color: #f0f8ff;}#sk-container-id-1 div.sk-toggleable__content pre {margin: 0.2em;color: black;border-radius: 0.25em;background-color: #f0f8ff;}#sk-container-id-1 input.sk-toggleable__control:checked~div.sk-toggleable__content {max-height: 200px;max-width: 100%;overflow: auto;}#sk-container-id-1 input.sk-toggleable__control:checked~label.sk-toggleable__label-arrow:before {content: \"▾\";}#sk-container-id-1 div.sk-estimator input.sk-toggleable__control:checked~label.sk-toggleable__label {background-color: #d4ebff;}#sk-container-id-1 div.sk-label input.sk-toggleable__control:checked~label.sk-toggleable__label {background-color: #d4ebff;}#sk-container-id-1 input.sk-hidden--visually {border: 0;clip: rect(1px 1px 1px 1px);clip: rect(1px, 1px, 1px, 1px);height: 1px;margin: -1px;overflow: hidden;padding: 0;position: absolute;width: 1px;}#sk-container-id-1 div.sk-estimator {font-family: monospace;background-color: #f0f8ff;border: 1px dotted black;border-radius: 0.25em;box-sizing: border-box;margin-bottom: 0.5em;}#sk-container-id-1 div.sk-estimator:hover {background-color: #d4ebff;}#sk-container-id-1 div.sk-parallel-item::after {content: \"\";width: 100%;border-bottom: 1px solid gray;flex-grow: 1;}#sk-container-id-1 div.sk-label:hover label.sk-toggleable__label {background-color: #d4ebff;}#sk-container-id-1 div.sk-serial::before {content: \"\";position: absolute;border-left: 1px solid gray;box-sizing: border-box;top: 0;bottom: 0;left: 50%;z-index: 0;}#sk-container-id-1 div.sk-serial {display: flex;flex-direction: column;align-items: center;background-color: white;padding-right: 0.2em;padding-left: 0.2em;position: relative;}#sk-container-id-1 div.sk-item {position: relative;z-index: 1;}#sk-container-id-1 div.sk-parallel {display: flex;align-items: stretch;justify-content: center;background-color: white;position: relative;}#sk-container-id-1 div.sk-item::before, #sk-container-id-1 div.sk-parallel-item::before {content: \"\";position: absolute;border-left: 1px solid gray;box-sizing: border-box;top: 0;bottom: 0;left: 50%;z-index: -1;}#sk-container-id-1 div.sk-parallel-item {display: flex;flex-direction: column;z-index: 1;position: relative;background-color: white;}#sk-container-id-1 div.sk-parallel-item:first-child::after {align-self: flex-end;width: 50%;}#sk-container-id-1 div.sk-parallel-item:last-child::after {align-self: flex-start;width: 50%;}#sk-container-id-1 div.sk-parallel-item:only-child::after {width: 0;}#sk-container-id-1 div.sk-dashed-wrapped {border: 1px dashed gray;margin: 0 0.4em 0.5em 0.4em;box-sizing: border-box;padding-bottom: 0.4em;background-color: white;}#sk-container-id-1 div.sk-label label {font-family: monospace;font-weight: bold;display: inline-block;line-height: 1.2em;}#sk-container-id-1 div.sk-label-container {text-align: center;}#sk-container-id-1 div.sk-container {/* jupyter's `normalize.less` sets `[hidden] { display: none; }` but bootstrap.min.css set `[hidden] { display: none !important; }` so we also need the `!important` here to be able to override the default hidden behavior on the sphinx rendered scikit-learn.org. See: https://github.com/scikit-learn/scikit-learn/issues/21755 */display: inline-block !important;position: relative;}#sk-container-id-1 div.sk-text-repr-fallback {display: none;}</style><div id=\"sk-container-id-1\" class=\"sk-top-container\"><div class=\"sk-text-repr-fallback\"><pre>LGBMClassifier(max_depth=3, n_estimators=200, random_state=11)</pre><b>In a Jupyter environment, please rerun this cell to show the HTML representation or trust the notebook. <br />On GitHub, the HTML representation is unable to render, please try loading this page with nbviewer.org.</b></div><div class=\"sk-container\" hidden><div class=\"sk-item\"><div class=\"sk-estimator sk-toggleable\"><input class=\"sk-toggleable__control sk-hidden--visually\" id=\"sk-estimator-id-1\" type=\"checkbox\" checked><label for=\"sk-estimator-id-1\" class=\"sk-toggleable__label sk-toggleable__label-arrow\">LGBMClassifier</label><div class=\"sk-toggleable__content\"><pre>LGBMClassifier(max_depth=3, n_estimators=200, random_state=11)</pre></div></div></div></div></div>"
            ]
          },
          "metadata": {},
          "execution_count": 12
        }
      ],
      "source": [
        "from lightgbm import LGBMClassifier\n",
        "\n",
        "l_gbm = LGBMClassifier(n_estimators=200, learning_rate=0.1, max_depth=3,random_state=11)\n",
        "\n",
        "evals = [(X_test, y_test)]\n",
        "l_gbm.fit(X_train_smote, y_train_smote, \n",
        "        early_stopping_rounds=300, \n",
        "        eval_metric=\"logloss\", eval_set=evals, verbose=True)"
      ]
    },
    {
      "cell_type": "code",
      "execution_count": 13,
      "metadata": {
        "colab": {
          "base_uri": "https://localhost:8080/"
        },
        "id": "7jbwVYGisd11",
        "outputId": "41170bac-2000-4991-96d1-62a1ee508125"
      },
      "outputs": [
        {
          "output_type": "stream",
          "name": "stdout",
          "text": [
            "[0.5425256  0.98144435 0.9813374  0.98195235 0.98077592]\n",
            "\n",
            "0.8936071228042032\n"
          ]
        }
      ],
      "source": [
        "from sklearn.model_selection import cross_val_score\n",
        "\n",
        "l_gbm_cross = cross_val_score(l_gbm, X_train_smote, y_train_smote, scoring='recall', cv=5)\n",
        "\n",
        "print(l_gbm_cross)\n",
        "print()\n",
        "print(l_gbm_cross.mean())"
      ]
    },
    {
      "cell_type": "code",
      "execution_count": 14,
      "metadata": {
        "colab": {
          "base_uri": "https://localhost:8080/"
        },
        "id": "l1oXjK7rsd12",
        "outputId": "49ded7be-bfce-499b-dc71-f81b6d4a503d"
      },
      "outputs": [
        {
          "output_type": "stream",
          "name": "stdout",
          "text": [
            "[[31635 15035]\n",
            " [ 2365  1904]]\n",
            "정확도 65.84\n",
            "정밀도 11.24\n",
            "재현율 44.6\n",
            "F1 17.96\n"
          ]
        }
      ],
      "source": [
        "pred = l_gbm.predict(X_test)\n",
        "\n",
        "get_clf_eval(y_test,pred)"
      ]
    },
    {
      "cell_type": "code",
      "source": [
        "import joblib\n",
        "\n",
        "joblib.dump(l_gbm, './light_gbm.pkl')"
      ],
      "metadata": {
        "colab": {
          "base_uri": "https://localhost:8080/"
        },
        "id": "FCtWjF9pOSdz",
        "outputId": "f2bec407-9274-42af-fdd5-7ea4b1b99086"
      },
      "execution_count": 15,
      "outputs": [
        {
          "output_type": "execute_result",
          "data": {
            "text/plain": [
              "['./light_gbm.pkl']"
            ]
          },
          "metadata": {},
          "execution_count": 15
        }
      ]
    },
    {
      "cell_type": "markdown",
      "metadata": {
        "id": "NPvbBepRIeZC"
      },
      "source": [
        "#### XGBoost"
      ]
    },
    {
      "cell_type": "code",
      "execution_count": 16,
      "metadata": {
        "colab": {
          "base_uri": "https://localhost:8080/"
        },
        "id": "ioO6_DJ1DknW",
        "outputId": "dbcfaca8-36da-420c-90da-6d5de4dcd20c"
      },
      "outputs": [
        {
          "output_type": "stream",
          "name": "stderr",
          "text": [
            "/usr/local/lib/python3.10/dist-packages/xgboost/sklearn.py:835: UserWarning: `eval_metric` in `fit` method is deprecated for better compatibility with scikit-learn, use `eval_metric` in constructor or`set_params` instead.\n",
            "  warnings.warn(\n",
            "/usr/local/lib/python3.10/dist-packages/xgboost/sklearn.py:835: UserWarning: `early_stopping_rounds` in `fit` method is deprecated for better compatibility with scikit-learn, use `early_stopping_rounds` in constructor or`set_params` instead.\n",
            "  warnings.warn(\n"
          ]
        },
        {
          "output_type": "stream",
          "name": "stdout",
          "text": [
            "[0]\tvalidation_0-logloss:0.68527\n",
            "[1]\tvalidation_0-logloss:0.67687\n",
            "[2]\tvalidation_0-logloss:0.66927\n",
            "[3]\tvalidation_0-logloss:0.66267\n",
            "[4]\tvalidation_0-logloss:0.67056\n",
            "[5]\tvalidation_0-logloss:0.68784\n",
            "[6]\tvalidation_0-logloss:0.73454\n",
            "[7]\tvalidation_0-logloss:0.72794\n",
            "[8]\tvalidation_0-logloss:0.72198\n",
            "[9]\tvalidation_0-logloss:0.71395\n",
            "[10]\tvalidation_0-logloss:0.70789\n",
            "[11]\tvalidation_0-logloss:0.70370\n",
            "[12]\tvalidation_0-logloss:0.72499\n",
            "[13]\tvalidation_0-logloss:0.76954\n",
            "[14]\tvalidation_0-logloss:0.75980\n",
            "[15]\tvalidation_0-logloss:0.75350\n",
            "[16]\tvalidation_0-logloss:0.74697\n",
            "[17]\tvalidation_0-logloss:0.74118\n",
            "[18]\tvalidation_0-logloss:0.73660\n",
            "[19]\tvalidation_0-logloss:0.73069\n",
            "[20]\tvalidation_0-logloss:0.72574\n",
            "[21]\tvalidation_0-logloss:0.71921\n",
            "[22]\tvalidation_0-logloss:0.74062\n",
            "[23]\tvalidation_0-logloss:0.73510\n",
            "[24]\tvalidation_0-logloss:0.72963\n",
            "[25]\tvalidation_0-logloss:0.72525\n",
            "[26]\tvalidation_0-logloss:0.72002\n",
            "[27]\tvalidation_0-logloss:0.73923\n",
            "[28]\tvalidation_0-logloss:0.78405\n",
            "[29]\tvalidation_0-logloss:0.77907\n",
            "[30]\tvalidation_0-logloss:0.77437\n",
            "[31]\tvalidation_0-logloss:0.76994\n",
            "[32]\tvalidation_0-logloss:0.77334\n",
            "[33]\tvalidation_0-logloss:0.76922\n",
            "[34]\tvalidation_0-logloss:0.76574\n",
            "[35]\tvalidation_0-logloss:0.78860\n",
            "[36]\tvalidation_0-logloss:0.81050\n",
            "[37]\tvalidation_0-logloss:0.83368\n",
            "[38]\tvalidation_0-logloss:0.82953\n",
            "[39]\tvalidation_0-logloss:0.82765\n",
            "[40]\tvalidation_0-logloss:0.82563\n",
            "[41]\tvalidation_0-logloss:0.82292\n",
            "[42]\tvalidation_0-logloss:0.81896\n",
            "[43]\tvalidation_0-logloss:0.81492\n",
            "[44]\tvalidation_0-logloss:0.80927\n",
            "[45]\tvalidation_0-logloss:0.80802\n",
            "[46]\tvalidation_0-logloss:0.80463\n",
            "[47]\tvalidation_0-logloss:0.80083\n",
            "[48]\tvalidation_0-logloss:0.80681\n",
            "[49]\tvalidation_0-logloss:0.81261\n",
            "[50]\tvalidation_0-logloss:0.82187\n",
            "[51]\tvalidation_0-logloss:0.81715\n",
            "[52]\tvalidation_0-logloss:0.81406\n",
            "[53]\tvalidation_0-logloss:0.83288\n",
            "[54]\tvalidation_0-logloss:0.83020\n",
            "[55]\tvalidation_0-logloss:0.82511\n",
            "[56]\tvalidation_0-logloss:0.82230\n",
            "[57]\tvalidation_0-logloss:0.81880\n",
            "[58]\tvalidation_0-logloss:0.81543\n",
            "[59]\tvalidation_0-logloss:0.81241\n",
            "[60]\tvalidation_0-logloss:0.85590\n",
            "[61]\tvalidation_0-logloss:0.85124\n",
            "[62]\tvalidation_0-logloss:0.84961\n",
            "[63]\tvalidation_0-logloss:0.85735\n",
            "[64]\tvalidation_0-logloss:0.85431\n",
            "[65]\tvalidation_0-logloss:0.85129\n",
            "[66]\tvalidation_0-logloss:0.84900\n",
            "[67]\tvalidation_0-logloss:0.87258\n",
            "[68]\tvalidation_0-logloss:0.86873\n",
            "[69]\tvalidation_0-logloss:0.86473\n",
            "[70]\tvalidation_0-logloss:0.85730\n",
            "[71]\tvalidation_0-logloss:0.85402\n",
            "[72]\tvalidation_0-logloss:0.85078\n",
            "[73]\tvalidation_0-logloss:0.85122\n",
            "[74]\tvalidation_0-logloss:0.84945\n",
            "[75]\tvalidation_0-logloss:0.84719\n",
            "[76]\tvalidation_0-logloss:0.84456\n",
            "[77]\tvalidation_0-logloss:0.84211\n",
            "[78]\tvalidation_0-logloss:0.84161\n",
            "[79]\tvalidation_0-logloss:0.83923\n",
            "[80]\tvalidation_0-logloss:0.83722\n",
            "[81]\tvalidation_0-logloss:0.85962\n",
            "[82]\tvalidation_0-logloss:0.88099\n",
            "[83]\tvalidation_0-logloss:0.88428\n",
            "[84]\tvalidation_0-logloss:0.89698\n",
            "[85]\tvalidation_0-logloss:0.89471\n",
            "[86]\tvalidation_0-logloss:0.89225\n",
            "[87]\tvalidation_0-logloss:0.89020\n",
            "[88]\tvalidation_0-logloss:0.88799\n",
            "[89]\tvalidation_0-logloss:0.89000\n",
            "[90]\tvalidation_0-logloss:0.88737\n",
            "[91]\tvalidation_0-logloss:0.88468\n",
            "[92]\tvalidation_0-logloss:0.88270\n",
            "[93]\tvalidation_0-logloss:0.88722\n",
            "[94]\tvalidation_0-logloss:0.88448\n",
            "[95]\tvalidation_0-logloss:0.90792\n",
            "[96]\tvalidation_0-logloss:0.90521\n",
            "[97]\tvalidation_0-logloss:0.90457\n",
            "[98]\tvalidation_0-logloss:0.90257\n",
            "[99]\tvalidation_0-logloss:0.90043\n",
            "[100]\tvalidation_0-logloss:0.89807\n",
            "[101]\tvalidation_0-logloss:0.89501\n",
            "[102]\tvalidation_0-logloss:0.89281\n",
            "[103]\tvalidation_0-logloss:0.88920\n",
            "[104]\tvalidation_0-logloss:0.88721\n",
            "[105]\tvalidation_0-logloss:0.88413\n",
            "[106]\tvalidation_0-logloss:0.88159\n",
            "[107]\tvalidation_0-logloss:0.88004\n",
            "[108]\tvalidation_0-logloss:0.88226\n",
            "[109]\tvalidation_0-logloss:0.92513\n",
            "[110]\tvalidation_0-logloss:0.93273\n",
            "[111]\tvalidation_0-logloss:0.92688\n",
            "[112]\tvalidation_0-logloss:0.93455\n",
            "[113]\tvalidation_0-logloss:0.93411\n",
            "[114]\tvalidation_0-logloss:0.93439\n",
            "[115]\tvalidation_0-logloss:0.93309\n",
            "[116]\tvalidation_0-logloss:0.93218\n",
            "[117]\tvalidation_0-logloss:0.93145\n",
            "[118]\tvalidation_0-logloss:0.92848\n",
            "[119]\tvalidation_0-logloss:0.95228\n",
            "[120]\tvalidation_0-logloss:0.96469\n",
            "[121]\tvalidation_0-logloss:0.96385\n",
            "[122]\tvalidation_0-logloss:0.96049\n",
            "[123]\tvalidation_0-logloss:0.95914\n",
            "[124]\tvalidation_0-logloss:0.95700\n",
            "[125]\tvalidation_0-logloss:0.96530\n",
            "[126]\tvalidation_0-logloss:0.96264\n",
            "[127]\tvalidation_0-logloss:0.96252\n",
            "[128]\tvalidation_0-logloss:0.96182\n",
            "[129]\tvalidation_0-logloss:0.96022\n",
            "[130]\tvalidation_0-logloss:0.95850\n",
            "[131]\tvalidation_0-logloss:0.95680\n",
            "[132]\tvalidation_0-logloss:0.95446\n",
            "[133]\tvalidation_0-logloss:0.97861\n",
            "[134]\tvalidation_0-logloss:0.97842\n",
            "[135]\tvalidation_0-logloss:0.97720\n",
            "[136]\tvalidation_0-logloss:0.97570\n",
            "[137]\tvalidation_0-logloss:0.97477\n",
            "[138]\tvalidation_0-logloss:0.98074\n",
            "[139]\tvalidation_0-logloss:0.98743\n",
            "[140]\tvalidation_0-logloss:1.02705\n",
            "[141]\tvalidation_0-logloss:1.02537\n",
            "[142]\tvalidation_0-logloss:1.03376\n",
            "[143]\tvalidation_0-logloss:1.04740\n",
            "[144]\tvalidation_0-logloss:1.04588\n",
            "[145]\tvalidation_0-logloss:1.04381\n",
            "[146]\tvalidation_0-logloss:1.03851\n",
            "[147]\tvalidation_0-logloss:1.05140\n",
            "[148]\tvalidation_0-logloss:1.07653\n",
            "[149]\tvalidation_0-logloss:1.09752\n",
            "[150]\tvalidation_0-logloss:1.09573\n",
            "[151]\tvalidation_0-logloss:1.09389\n",
            "[152]\tvalidation_0-logloss:1.09244\n",
            "[153]\tvalidation_0-logloss:1.09109\n",
            "[154]\tvalidation_0-logloss:1.08887\n",
            "[155]\tvalidation_0-logloss:1.08704\n",
            "[156]\tvalidation_0-logloss:1.08522\n",
            "[157]\tvalidation_0-logloss:1.08403\n",
            "[158]\tvalidation_0-logloss:1.10603\n",
            "[159]\tvalidation_0-logloss:1.12380\n",
            "[160]\tvalidation_0-logloss:1.12227\n",
            "[161]\tvalidation_0-logloss:1.12099\n",
            "[162]\tvalidation_0-logloss:1.11924\n",
            "[163]\tvalidation_0-logloss:1.12494\n",
            "[164]\tvalidation_0-logloss:1.11980\n",
            "[165]\tvalidation_0-logloss:1.11819\n",
            "[166]\tvalidation_0-logloss:1.13230\n",
            "[167]\tvalidation_0-logloss:1.13092\n",
            "[168]\tvalidation_0-logloss:1.12966\n",
            "[169]\tvalidation_0-logloss:1.12918\n",
            "[170]\tvalidation_0-logloss:1.12761\n",
            "[171]\tvalidation_0-logloss:1.12734\n",
            "[172]\tvalidation_0-logloss:1.12604\n",
            "[173]\tvalidation_0-logloss:1.12449\n",
            "[174]\tvalidation_0-logloss:1.12292\n",
            "[175]\tvalidation_0-logloss:1.12196\n",
            "[176]\tvalidation_0-logloss:1.16805\n",
            "[177]\tvalidation_0-logloss:1.18198\n",
            "[178]\tvalidation_0-logloss:1.18052\n",
            "[179]\tvalidation_0-logloss:1.17925\n",
            "[180]\tvalidation_0-logloss:1.17844\n",
            "[181]\tvalidation_0-logloss:1.18373\n",
            "[182]\tvalidation_0-logloss:1.20777\n",
            "[183]\tvalidation_0-logloss:1.20707\n",
            "[184]\tvalidation_0-logloss:1.20968\n",
            "[185]\tvalidation_0-logloss:1.20851\n",
            "[186]\tvalidation_0-logloss:1.20701\n",
            "[187]\tvalidation_0-logloss:1.20563\n",
            "[188]\tvalidation_0-logloss:1.20465\n",
            "[189]\tvalidation_0-logloss:1.20268\n",
            "[190]\tvalidation_0-logloss:1.20150\n",
            "[191]\tvalidation_0-logloss:1.20873\n",
            "[192]\tvalidation_0-logloss:1.20423\n",
            "[193]\tvalidation_0-logloss:1.20548\n",
            "[194]\tvalidation_0-logloss:1.22058\n",
            "[195]\tvalidation_0-logloss:1.21770\n",
            "[196]\tvalidation_0-logloss:1.21423\n",
            "[197]\tvalidation_0-logloss:1.21230\n",
            "[198]\tvalidation_0-logloss:1.21062\n",
            "[199]\tvalidation_0-logloss:1.20982\n"
          ]
        },
        {
          "output_type": "execute_result",
          "data": {
            "text/plain": [
              "array([8.8378444e-04, 4.2660609e-03, 4.8561827e-03, 1.0183393e-03,\n",
              "       3.3351194e-02, 3.1192401e-02, 2.5266614e-02, 0.0000000e+00,\n",
              "       0.0000000e+00, 4.6751335e-02, 9.0936344e-05, 2.0012047e-02,\n",
              "       7.3461798e-03, 4.2163748e-03, 3.6641075e-03, 7.6899440e-03,\n",
              "       2.1371536e-03, 2.5731728e-03, 1.4513255e-02, 0.0000000e+00,\n",
              "       2.0919884e-02, 6.8115350e-03, 3.9040013e-03, 3.0900105e-03,\n",
              "       9.0463506e-03, 2.0914353e-02, 2.8373161e-02, 2.1610243e-02,\n",
              "       1.8112835e-02, 1.5776348e-03, 6.8846382e-03, 0.0000000e+00,\n",
              "       2.0358456e-02, 2.6736779e-03, 2.4329947e-02, 1.5658060e-02,\n",
              "       5.5553271e-03, 0.0000000e+00, 0.0000000e+00, 0.0000000e+00,\n",
              "       2.7937663e-03, 5.9951916e-03, 2.1055505e-02, 3.5681434e-02,\n",
              "       4.1793799e-03, 4.9765971e-03, 2.7384913e-02, 1.3467627e-02,\n",
              "       4.4842124e-02, 3.5061821e-02, 6.7200200e-03, 6.2325906e-02,\n",
              "       0.0000000e+00, 2.6702858e-03, 7.4820551e-03, 2.6024854e-02,\n",
              "       1.6355211e-02, 1.4867206e-02, 1.0999368e-02, 1.7111279e-02,\n",
              "       7.8674210e-03, 5.8417616e-04, 6.4221909e-03, 1.1972598e-02,\n",
              "       6.0193460e-03, 4.4502337e-03, 2.7008168e-02, 2.4457494e-02,\n",
              "       2.3696870e-02, 2.0230414e-02, 3.1052010e-02, 2.7962150e-02,\n",
              "       2.8633252e-02], dtype=float32)"
            ]
          },
          "metadata": {},
          "execution_count": 16
        }
      ],
      "source": [
        "from xgboost import XGBClassifier\n",
        "\n",
        "xgb=XGBClassifier(booster='gbtree', n_estimators=200, learning_rate=0.1, max_depth=3, random_state=11, n_jobs=-1)\n",
        "\n",
        "xgb.fit(X_train_smote, y_train_smote, early_stopping_rounds=300, eval_metric='logloss', eval_set = [(X_test, y_test)])\n",
        "\n",
        "xgb.feature_importances_"
      ]
    },
    {
      "cell_type": "code",
      "execution_count": 17,
      "metadata": {
        "colab": {
          "base_uri": "https://localhost:8080/"
        },
        "id": "cOUdoTbrsd2G",
        "outputId": "e0d69a02-78ea-41e2-ac13-511822bf870c"
      },
      "outputs": [
        {
          "output_type": "stream",
          "name": "stdout",
          "text": [
            "[0.54145611 0.98074918 0.98216625 0.98203257 0.98107002]\n",
            "\n",
            "0.8934948263415416\n"
          ]
        }
      ],
      "source": [
        "from sklearn.model_selection import cross_val_score\n",
        "\n",
        "xg_cross = cross_val_score(xgb, X_train_smote, y_train_smote, scoring='recall', cv=5)\n",
        "\n",
        "print(xg_cross)\n",
        "print()\n",
        "print(xg_cross.mean())"
      ]
    },
    {
      "cell_type": "code",
      "execution_count": 18,
      "metadata": {
        "colab": {
          "base_uri": "https://localhost:8080/"
        },
        "id": "-U0iRtmbsd2H",
        "outputId": "1e62be6f-e13c-4828-a62e-1dbf7e806a0b"
      },
      "outputs": [
        {
          "output_type": "stream",
          "name": "stdout",
          "text": [
            "[[31635 15035]\n",
            " [ 2365  1904]]\n",
            "정확도 65.84\n",
            "정밀도 11.24\n",
            "재현율 44.6\n",
            "F1 17.96\n"
          ]
        }
      ],
      "source": [
        "pred = xgb.predict(X_test)\n",
        "\n",
        "get_clf_eval(y_test, pred)"
      ]
    },
    {
      "cell_type": "code",
      "source": [
        "import joblib\n",
        "\n",
        "joblib.dump(xg_cross, './xgboost.pkl')"
      ],
      "metadata": {
        "colab": {
          "base_uri": "https://localhost:8080/"
        },
        "id": "9bw8Zog7OZ2c",
        "outputId": "2c8e7d7d-9d9f-4a58-a5ac-a83643db2519"
      },
      "execution_count": 20,
      "outputs": [
        {
          "output_type": "execute_result",
          "data": {
            "text/plain": [
              "['./xgboost.pkl']"
            ]
          },
          "metadata": {},
          "execution_count": 20
        }
      ]
    },
    {
      "cell_type": "markdown",
      "source": [
        "#### XGBoost feature_importances_ 확인하고 중요도 높은 피처 15개로 다시 학습 & 검증"
      ],
      "metadata": {
        "id": "FKQ91N-y9RDv"
      }
    },
    {
      "cell_type": "code",
      "source": [
        "# pd.options.display.float_format = '{:.5f}'.format"
      ],
      "metadata": {
        "id": "NnHr4N9T3nAg"
      },
      "execution_count": null,
      "outputs": []
    },
    {
      "cell_type": "code",
      "source": [
        "# df_feature_importance_xg = pd.DataFrame()\n",
        "# df_feature_importance_xg[\"columns\"] = X_train_smote.columns\n",
        "# df_feature_importance_xg[\"importance\"] = xgb.feature_importances_\n",
        "\n",
        "# df_feature_importance_xg.sort_values(\"importance\", ascending=False, inplace=True)\n",
        "# df_feature_importance_xg.head(15)[\"columns\"].values"
      ],
      "metadata": {
        "id": "YNuVsx7K3I_8"
      },
      "execution_count": null,
      "outputs": []
    },
    {
      "cell_type": "code",
      "source": [
        "# xg_feature_importance_15 = X_train_smote[['NAME_INCOME_TYPE_2', 'NAME_TYPE_SUITE_2',\n",
        "#        'NAME_CONTRACT_TYPE_Cash loans', 'NAME_TYPE_SUITE_1',\n",
        "#        'ORGANIZATION_TYPE_3', 'NAME_TYPE_SUITE_3',\n",
        "#        'NAME_CONTRACT_TYPE_Revolving loans', 'FLAG_OWN_REALTY_Y',\n",
        "#        'DAYS_ID_PUBLISH_int', 'HOUR_APPR_PROCESS_START_2',\n",
        "#        'DAYS_LAST_PHONE_CHANGE_int', 'WEEKDAY_APPR_PROCESS_START_TUESDAY',\n",
        "#        'NAME_EDUCATION_TYPE', 'WEEKDAY_APPR_PROCESS_START_MONDAY',\n",
        "#        'WEEKDAY_APPR_PROCESS_START_FRIDAY']]"
      ],
      "metadata": {
        "id": "1-tr_ONg50sa"
      },
      "execution_count": null,
      "outputs": []
    },
    {
      "cell_type": "code",
      "source": [
        "# X_test_feature_importance = X_test[['NAME_INCOME_TYPE_2', 'NAME_TYPE_SUITE_2',\n",
        "#        'NAME_CONTRACT_TYPE_Cash loans', 'NAME_TYPE_SUITE_1',\n",
        "#        'ORGANIZATION_TYPE_3', 'NAME_TYPE_SUITE_3',\n",
        "#        'NAME_CONTRACT_TYPE_Revolving loans', 'FLAG_OWN_REALTY_Y',\n",
        "#        'DAYS_ID_PUBLISH_int', 'HOUR_APPR_PROCESS_START_2',\n",
        "#        'DAYS_LAST_PHONE_CHANGE_int', 'WEEKDAY_APPR_PROCESS_START_TUESDAY',\n",
        "#        'NAME_EDUCATION_TYPE', 'WEEKDAY_APPR_PROCESS_START_MONDAY',\n",
        "#        'WEEKDAY_APPR_PROCESS_START_FRIDAY']]"
      ],
      "metadata": {
        "id": "OAbHh55W6_iv"
      },
      "execution_count": null,
      "outputs": []
    },
    {
      "cell_type": "code",
      "source": [
        "# from xgboost import XGBClassifier\n",
        "\n",
        "# xgb=XGBClassifier(booster='gbtree', n_estimators=200, learning_rate=0.1, max_depth=3, random_state=11, n_jobs=-1)\n",
        "\n",
        "# xgb.fit(xg_feature_importance_15, y_train_smote, early_stopping_rounds=300, eval_metric='logloss', eval_set = [(X_test_feature_importance, y_test)])"
      ],
      "metadata": {
        "id": "35Tg2r5W54G5"
      },
      "execution_count": null,
      "outputs": []
    },
    {
      "cell_type": "code",
      "source": [
        "# from sklearn.model_selection import cross_val_score\n",
        "\n",
        "# xg_cross = cross_val_score(xgb, xg_feature_importance_15, y_train_smote, scoring='recall', cv=5)\n",
        "\n",
        "# print(xg_cross)\n",
        "# print()\n",
        "# print(xg_cross.mean())"
      ],
      "metadata": {
        "id": "iUjOKvhT7LlY"
      },
      "execution_count": null,
      "outputs": []
    },
    {
      "cell_type": "code",
      "source": [
        "# pred = xgb.predict(X_test_feature_importance)\n",
        "\n",
        "# get_clf_eval(y_test, pred)"
      ],
      "metadata": {
        "id": "KqtVdiCn72IW"
      },
      "execution_count": null,
      "outputs": []
    },
    {
      "cell_type": "markdown",
      "metadata": {
        "id": "2CpcsVSwIgNM"
      },
      "source": [
        "#### AdaBoost"
      ]
    },
    {
      "cell_type": "markdown",
      "source": [
        "##### Ada no hyper parameter 이미 저장"
      ],
      "metadata": {
        "id": "NQ-0rhg4ZCx7"
      }
    },
    {
      "cell_type": "code",
      "execution_count": null,
      "metadata": {
        "id": "5rloL5NXIH7G"
      },
      "outputs": [],
      "source": [
        "# from sklearn.ensemble import AdaBoostClassifier\n",
        "\n",
        "# ada = AdaBoostClassifier(n_estimators=200, learning_rate=0.1, random_state=11)\n",
        "\n",
        "# ada.fit(X_train_smote, y_train_smote)"
      ]
    },
    {
      "cell_type": "code",
      "source": [
        "# from sklearn.model_selection import cross_val_score\n",
        "\n",
        "# ada_cross = cross_val_score(ada, X_train_smote, y_train_smote, scoring='recall', cv=5)\n",
        "\n",
        "# print(ada_cross)\n",
        "# print()\n",
        "# print(ada_cross.mean())"
      ],
      "metadata": {
        "id": "6_OrRqVQwtZv"
      },
      "execution_count": null,
      "outputs": []
    },
    {
      "cell_type": "code",
      "execution_count": null,
      "metadata": {
        "id": "EApahZKfRmzv"
      },
      "outputs": [],
      "source": [
        "# pred = ada.predict(X_test)\n",
        "\n",
        "# get_clf_eval(y_test, pred)"
      ]
    },
    {
      "cell_type": "code",
      "source": [
        "# import joblib\n",
        "\n",
        "# joblib.dump(gb_clf, './xgboost.pkl')"
      ],
      "metadata": {
        "id": "4ww498CLPMdA"
      },
      "execution_count": null,
      "outputs": []
    },
    {
      "cell_type": "markdown",
      "source": [
        "##### Ada hyper parameter"
      ],
      "metadata": {
        "id": "i5GT-l3yYqWx"
      }
    },
    {
      "cell_type": "code",
      "source": [
        "from sklearn.ensemble import AdaBoostClassifier\n",
        "from sklearn.tree import DecisionTreeClassifier\n",
        "\n",
        "dt_clf = DecisionTreeClassifier(max_depth=3, min_samples_leaf=5)\n",
        "\n",
        "ada_max_depth3 = AdaBoostClassifier(estimator=dt_clf, n_estimators=200, learning_rate=0.1, random_state=11)\n",
        "\n",
        "ada_max_depth3.fit(X_train_smote, y_train_smote)"
      ],
      "metadata": {
        "id": "shLxj_1X9NfI",
        "colab": {
          "base_uri": "https://localhost:8080/",
          "height": 118
        },
        "outputId": "ddd0e78f-62da-4ae0-9790-edd50e397983"
      },
      "execution_count": 21,
      "outputs": [
        {
          "output_type": "execute_result",
          "data": {
            "text/plain": [
              "AdaBoostClassifier(estimator=DecisionTreeClassifier(max_depth=3,\n",
              "                                                    min_samples_leaf=5),\n",
              "                   learning_rate=0.1, n_estimators=200, random_state=11)"
            ],
            "text/html": [
              "<style>#sk-container-id-2 {color: black;background-color: white;}#sk-container-id-2 pre{padding: 0;}#sk-container-id-2 div.sk-toggleable {background-color: white;}#sk-container-id-2 label.sk-toggleable__label {cursor: pointer;display: block;width: 100%;margin-bottom: 0;padding: 0.3em;box-sizing: border-box;text-align: center;}#sk-container-id-2 label.sk-toggleable__label-arrow:before {content: \"▸\";float: left;margin-right: 0.25em;color: #696969;}#sk-container-id-2 label.sk-toggleable__label-arrow:hover:before {color: black;}#sk-container-id-2 div.sk-estimator:hover label.sk-toggleable__label-arrow:before {color: black;}#sk-container-id-2 div.sk-toggleable__content {max-height: 0;max-width: 0;overflow: hidden;text-align: left;background-color: #f0f8ff;}#sk-container-id-2 div.sk-toggleable__content pre {margin: 0.2em;color: black;border-radius: 0.25em;background-color: #f0f8ff;}#sk-container-id-2 input.sk-toggleable__control:checked~div.sk-toggleable__content {max-height: 200px;max-width: 100%;overflow: auto;}#sk-container-id-2 input.sk-toggleable__control:checked~label.sk-toggleable__label-arrow:before {content: \"▾\";}#sk-container-id-2 div.sk-estimator input.sk-toggleable__control:checked~label.sk-toggleable__label {background-color: #d4ebff;}#sk-container-id-2 div.sk-label input.sk-toggleable__control:checked~label.sk-toggleable__label {background-color: #d4ebff;}#sk-container-id-2 input.sk-hidden--visually {border: 0;clip: rect(1px 1px 1px 1px);clip: rect(1px, 1px, 1px, 1px);height: 1px;margin: -1px;overflow: hidden;padding: 0;position: absolute;width: 1px;}#sk-container-id-2 div.sk-estimator {font-family: monospace;background-color: #f0f8ff;border: 1px dotted black;border-radius: 0.25em;box-sizing: border-box;margin-bottom: 0.5em;}#sk-container-id-2 div.sk-estimator:hover {background-color: #d4ebff;}#sk-container-id-2 div.sk-parallel-item::after {content: \"\";width: 100%;border-bottom: 1px solid gray;flex-grow: 1;}#sk-container-id-2 div.sk-label:hover label.sk-toggleable__label {background-color: #d4ebff;}#sk-container-id-2 div.sk-serial::before {content: \"\";position: absolute;border-left: 1px solid gray;box-sizing: border-box;top: 0;bottom: 0;left: 50%;z-index: 0;}#sk-container-id-2 div.sk-serial {display: flex;flex-direction: column;align-items: center;background-color: white;padding-right: 0.2em;padding-left: 0.2em;position: relative;}#sk-container-id-2 div.sk-item {position: relative;z-index: 1;}#sk-container-id-2 div.sk-parallel {display: flex;align-items: stretch;justify-content: center;background-color: white;position: relative;}#sk-container-id-2 div.sk-item::before, #sk-container-id-2 div.sk-parallel-item::before {content: \"\";position: absolute;border-left: 1px solid gray;box-sizing: border-box;top: 0;bottom: 0;left: 50%;z-index: -1;}#sk-container-id-2 div.sk-parallel-item {display: flex;flex-direction: column;z-index: 1;position: relative;background-color: white;}#sk-container-id-2 div.sk-parallel-item:first-child::after {align-self: flex-end;width: 50%;}#sk-container-id-2 div.sk-parallel-item:last-child::after {align-self: flex-start;width: 50%;}#sk-container-id-2 div.sk-parallel-item:only-child::after {width: 0;}#sk-container-id-2 div.sk-dashed-wrapped {border: 1px dashed gray;margin: 0 0.4em 0.5em 0.4em;box-sizing: border-box;padding-bottom: 0.4em;background-color: white;}#sk-container-id-2 div.sk-label label {font-family: monospace;font-weight: bold;display: inline-block;line-height: 1.2em;}#sk-container-id-2 div.sk-label-container {text-align: center;}#sk-container-id-2 div.sk-container {/* jupyter's `normalize.less` sets `[hidden] { display: none; }` but bootstrap.min.css set `[hidden] { display: none !important; }` so we also need the `!important` here to be able to override the default hidden behavior on the sphinx rendered scikit-learn.org. See: https://github.com/scikit-learn/scikit-learn/issues/21755 */display: inline-block !important;position: relative;}#sk-container-id-2 div.sk-text-repr-fallback {display: none;}</style><div id=\"sk-container-id-2\" class=\"sk-top-container\"><div class=\"sk-text-repr-fallback\"><pre>AdaBoostClassifier(estimator=DecisionTreeClassifier(max_depth=3,\n",
              "                                                    min_samples_leaf=5),\n",
              "                   learning_rate=0.1, n_estimators=200, random_state=11)</pre><b>In a Jupyter environment, please rerun this cell to show the HTML representation or trust the notebook. <br />On GitHub, the HTML representation is unable to render, please try loading this page with nbviewer.org.</b></div><div class=\"sk-container\" hidden><div class=\"sk-item sk-dashed-wrapped\"><div class=\"sk-label-container\"><div class=\"sk-label sk-toggleable\"><input class=\"sk-toggleable__control sk-hidden--visually\" id=\"sk-estimator-id-2\" type=\"checkbox\" ><label for=\"sk-estimator-id-2\" class=\"sk-toggleable__label sk-toggleable__label-arrow\">AdaBoostClassifier</label><div class=\"sk-toggleable__content\"><pre>AdaBoostClassifier(estimator=DecisionTreeClassifier(max_depth=3,\n",
              "                                                    min_samples_leaf=5),\n",
              "                   learning_rate=0.1, n_estimators=200, random_state=11)</pre></div></div></div><div class=\"sk-parallel\"><div class=\"sk-parallel-item\"><div class=\"sk-item\"><div class=\"sk-label-container\"><div class=\"sk-label sk-toggleable\"><input class=\"sk-toggleable__control sk-hidden--visually\" id=\"sk-estimator-id-3\" type=\"checkbox\" ><label for=\"sk-estimator-id-3\" class=\"sk-toggleable__label sk-toggleable__label-arrow\">estimator: DecisionTreeClassifier</label><div class=\"sk-toggleable__content\"><pre>DecisionTreeClassifier(max_depth=3, min_samples_leaf=5)</pre></div></div></div><div class=\"sk-serial\"><div class=\"sk-item\"><div class=\"sk-estimator sk-toggleable\"><input class=\"sk-toggleable__control sk-hidden--visually\" id=\"sk-estimator-id-4\" type=\"checkbox\" ><label for=\"sk-estimator-id-4\" class=\"sk-toggleable__label sk-toggleable__label-arrow\">DecisionTreeClassifier</label><div class=\"sk-toggleable__content\"><pre>DecisionTreeClassifier(max_depth=3, min_samples_leaf=5)</pre></div></div></div></div></div></div></div></div></div></div>"
            ]
          },
          "metadata": {},
          "execution_count": 21
        }
      ]
    },
    {
      "cell_type": "code",
      "source": [
        "from sklearn.model_selection import cross_val_score\n",
        "\n",
        "ada_cross = cross_val_score(ada_max_depth3, X_train_smote, y_train_smote, scoring='recall', cv=5)\n",
        "\n",
        "print(ada_cross)\n",
        "print()\n",
        "print(ada_cross.mean())"
      ],
      "metadata": {
        "id": "2OE5Ka_WwMl3"
      },
      "execution_count": null,
      "outputs": []
    },
    {
      "cell_type": "code",
      "source": [
        "pred = ada_max_depth3.predict(X_test)\n",
        "\n",
        "get_clf_eval(y_test, pred)"
      ],
      "metadata": {
        "id": "D-so7_g-wN6_"
      },
      "execution_count": null,
      "outputs": []
    },
    {
      "cell_type": "code",
      "source": [
        "import joblib\n",
        "\n",
        "joblib.dump(ada_max_depth3, './ada_hyper_param.pkl')"
      ],
      "metadata": {
        "id": "BZDaa5BKwy3_"
      },
      "execution_count": null,
      "outputs": []
    },
    {
      "cell_type": "code",
      "source": [],
      "metadata": {
        "id": "UfcteArMjOps"
      },
      "execution_count": null,
      "outputs": []
    }
  ],
  "metadata": {
    "colab": {
      "provenance": [],
      "gpuType": "T4",
      "include_colab_link": true
    },
    "kernelspec": {
      "display_name": "Python 3",
      "name": "python3"
    },
    "language_info": {
      "codemirror_mode": {
        "name": "ipython",
        "version": 3
      },
      "file_extension": ".py",
      "mimetype": "text/x-python",
      "name": "python",
      "nbconvert_exporter": "python",
      "pygments_lexer": "ipython3",
      "version": "3.10.11"
    },
    "accelerator": "GPU"
  },
  "nbformat": 4,
  "nbformat_minor": 0
}